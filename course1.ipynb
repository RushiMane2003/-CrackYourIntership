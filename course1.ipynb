{
  "nbformat": 4,
  "nbformat_minor": 0,
  "metadata": {
    "colab": {
      "provenance": [],
      "authorship_tag": "ABX9TyMh6bJ34RSY3WxVDkEQW3oo",
      "include_colab_link": true
    },
    "kernelspec": {
      "name": "python3",
      "display_name": "Python 3"
    },
    "language_info": {
      "name": "python"
    }
  },
  "cells": [
    {
      "cell_type": "markdown",
      "metadata": {
        "id": "view-in-github",
        "colab_type": "text"
      },
      "source": [
        "<a href=\"https://colab.research.google.com/github/RushiMane2003/-CrackYourIntership/blob/main/course1.ipynb\" target=\"_parent\"><img src=\"https://colab.research.google.com/assets/colab-badge.svg\" alt=\"Open In Colab\"/></a>"
      ]
    },
    {
      "cell_type": "markdown",
      "source": [
        "# **CourseEra Assignment**"
      ],
      "metadata": {
        "id": "sPv-ymZ-MTId"
      }
    },
    {
      "cell_type": "markdown",
      "source": [
        "Intro:- This is my first peer assignment"
      ],
      "metadata": {
        "id": "bPcQC-g3Ma8w"
      }
    },
    {
      "cell_type": "markdown",
      "source": [
        "**DATA SCIENCE Languages**\n",
        "\n",
        "* Python\n",
        "\n",
        "* R\n",
        "\n",
        "* SQL\n",
        "\n",
        "* C++\n",
        "\n",
        "* Java\n",
        "\n",
        "* Scala\n",
        "\n"
      ],
      "metadata": {
        "id": "mGmAf-TqMmRO"
      }
    },
    {
      "cell_type": "markdown",
      "source": [
        "**DATA SCIENCE LIBRARIES**\n",
        "\n",
        "Pandas\n",
        "\n",
        "NumPy\n",
        "\n",
        "Scikit-learn\n",
        "\n",
        "TensorFlow\n",
        "\n",
        "PyTorch\n",
        "\n",
        "Matplotlib"
      ],
      "metadata": {
        "id": "YBXM9lmPluxl"
      }
    },
    {
      "cell_type": "markdown",
      "source": [
        "**TOOLS FOR DATA SCIENCE**\n",
        "\n",
        "Power BI\n",
        "\n",
        "Tabulu\n",
        "\n",
        "Apache Spark\n",
        "\n",
        "AWS\n",
        "\n",
        "GCP"
      ],
      "metadata": {
        "id": "yfZFWDuKpfI0"
      }
    },
    {
      "cell_type": "markdown",
      "source": [
        "This section demonstrates various arithmetic expressions in Python.  We'll cover basic operations like addition, subtraction, multiplication, and division, along with more complex examples using parentheses and order of operations.\n"
      ],
      "metadata": {
        "id": "KzbxpodGqSk8"
      }
    },
    {
      "cell_type": "code",
      "source": [
        "# Multiplication\n",
        "print(2 * 3)\n",
        "\n",
        "# Adiition\n",
        "print(10 + 11)"
      ],
      "metadata": {
        "colab": {
          "base_uri": "https://localhost:8080/"
        },
        "id": "HqK51PDRqaRe",
        "outputId": "a198b2e3-1f8c-4795-bbef-d05b06c9c42c"
      },
      "execution_count": null,
      "outputs": [
        {
          "output_type": "stream",
          "name": "stdout",
          "text": [
            "6\n",
            "21\n"
          ]
        }
      ]
    },
    {
      "cell_type": "code",
      "source": [
        "# Hours to minutes\n",
        "hours = 2\n",
        "minutes = hours * 60\n",
        "minutes\n"
      ],
      "metadata": {
        "colab": {
          "base_uri": "https://localhost:8080/"
        },
        "id": "FdZCTBcWqsYZ",
        "outputId": "53a7abb9-9aef-4fbc-852d-1ad2068086ea"
      },
      "execution_count": null,
      "outputs": [
        {
          "output_type": "execute_result",
          "data": {
            "text/plain": [
              "120"
            ]
          },
          "metadata": {},
          "execution_count": 2
        }
      ]
    },
    {
      "cell_type": "markdown",
      "source": [
        "This section demonstrates various arithmetic expressions in Python.  We'll cover basic athematic operations one by one and a real life example of convert hour into minutes\n"
      ],
      "metadata": {
        "id": "IjB0-g3prDQn"
      }
    },
    {
      "cell_type": "markdown",
      "source": [
        "AUTHOUR:- Rushikesh Mane"
      ],
      "metadata": {
        "id": "iI5ZrnHerSo7"
      }
    }
  ]
}